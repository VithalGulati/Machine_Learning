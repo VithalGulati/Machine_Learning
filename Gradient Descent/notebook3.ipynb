{
 "cells": [
  {
   "cell_type": "code",
   "execution_count": 1,
   "metadata": {},
   "outputs": [],
   "source": [
    "import pandas as pd\n",
    "import numpy as np"
   ]
  },
  {
   "cell_type": "code",
   "execution_count": 2,
   "metadata": {},
   "outputs": [],
   "source": [
    "data=np.loadtxt(\"train2.csv\",delimiter=\",\")"
   ]
  },
  {
   "cell_type": "code",
   "execution_count": 3,
   "metadata": {},
   "outputs": [
    {
     "data": {
      "text/plain": [
       "array([[-0.40784991, -0.48772236, -1.2660231 , ...,  0.41057102,\n",
       "        -1.09799011, 37.9       ],\n",
       "       [-0.40737368, -0.48772236,  0.24705682, ...,  0.29116915,\n",
       "        -0.52047412, 21.4       ],\n",
       "       [ 0.1251786 , -0.48772236,  1.01599907, ..., -3.79579542,\n",
       "         0.89107588, 12.7       ],\n",
       "       ...,\n",
       "       [-0.40831101, -0.48772236,  0.24705682, ...,  0.33206621,\n",
       "        -0.33404299, 20.8       ],\n",
       "       [-0.41061997, -0.48772236, -1.15221381, ...,  0.203235  ,\n",
       "        -0.74475218, 22.6       ],\n",
       "       [ 0.34290895, -0.48772236,  1.01599907, ...,  0.38787479,\n",
       "        -1.35871335, 50.        ]])"
      ]
     },
     "execution_count": 3,
     "metadata": {},
     "output_type": "execute_result"
    }
   ],
   "source": [
    "data"
   ]
  },
  {
   "cell_type": "code",
   "execution_count": 4,
   "metadata": {},
   "outputs": [
    {
     "data": {
      "text/plain": [
       "379"
      ]
     },
     "execution_count": 4,
     "metadata": {},
     "output_type": "execute_result"
    }
   ],
   "source": [
    "len(data)"
   ]
  },
  {
   "cell_type": "code",
   "execution_count": 5,
   "metadata": {},
   "outputs": [
    {
     "data": {
      "text/plain": [
       "(379, 14)"
      ]
     },
     "execution_count": 5,
     "metadata": {},
     "output_type": "execute_result"
    }
   ],
   "source": [
    "data.shape"
   ]
  },
  {
   "cell_type": "code",
   "execution_count": 5,
   "metadata": {},
   "outputs": [],
   "source": [
    "def stepgradient(learning_rate,m):\n",
    "    m_slope=np.zeros(14)\n",
    "    n=len(data)\n",
    "    data2=data[:,0:13]\n",
    "    data3=np.zeros([379,14])\n",
    "    data3[:,13]=1\n",
    "    data3[:,0:13]=data3[:,0:13]+data2\n",
    "    for i in range(n):\n",
    "        \n",
    "        x=data3[i]\n",
    "        y=data[i,13]\n",
    "        for j in range(14):\n",
    "            x2=x[j]\n",
    "            m_slope[j]+=(-2/n)*(y-(m*x).sum())*x2\n",
    "    new_m=m-learning_rate*m_slope\n",
    "    return new_m"
   ]
  },
  {
   "cell_type": "code",
   "execution_count": 6,
   "metadata": {},
   "outputs": [],
   "source": [
    "def gd(learning_rate,num_iterations):\n",
    "    m=np.zeros(14)\n",
    "    for i in range(num_iterations):\n",
    "        m=stepgradient(learning_rate,m)\n",
    "    return m"
   ]
  },
  {
   "cell_type": "code",
   "execution_count": 7,
   "metadata": {},
   "outputs": [],
   "source": [
    "\n",
    "learning_rate=0.01\n",
    "num_iterations=100\n",
    "m2=gd(learning_rate,num_iterations)"
   ]
  },
  {
   "cell_type": "code",
   "execution_count": 8,
   "metadata": {},
   "outputs": [
    {
     "data": {
      "text/plain": [
       "array([-0.71980943,  0.32105184, -0.39782066,  1.07253383, -0.5851858 ,\n",
       "        3.35680621,  0.10193905, -0.98886677,  0.56281451, -0.22255802,\n",
       "       -1.66114583,  0.67831581, -3.15805718, 19.60768685])"
      ]
     },
     "execution_count": 8,
     "metadata": {},
     "output_type": "execute_result"
    }
   ],
   "source": [
    "m2"
   ]
  },
  {
   "cell_type": "code",
   "execution_count": 9,
   "metadata": {},
   "outputs": [],
   "source": [
    "data5=np.loadtxt(\"test2.csv\",delimiter=\",\")"
   ]
  },
  {
   "cell_type": "code",
   "execution_count": 10,
   "metadata": {},
   "outputs": [],
   "source": [
    "n=len(data5)"
   ]
  },
  {
   "cell_type": "code",
   "execution_count": 11,
   "metadata": {},
   "outputs": [
    {
     "data": {
      "text/plain": [
       "(127, 13)"
      ]
     },
     "execution_count": 11,
     "metadata": {},
     "output_type": "execute_result"
    }
   ],
   "source": [
    "data5.shape"
   ]
  },
  {
   "cell_type": "code",
   "execution_count": 12,
   "metadata": {},
   "outputs": [],
   "source": [
    "data2=data5[:,0:13]\n",
    "data3=np.zeros([127,14])\n",
    "data3[:,13]=1\n",
    "data3[:,0:13]=data3[:,0:13]+data2"
   ]
  },
  {
   "cell_type": "code",
   "execution_count": 13,
   "metadata": {},
   "outputs": [],
   "source": [
    "ypred=np.zeros(n)\n",
    "for i in range(n):\n",
    "    ypred[i]=(data3[i]*m2).sum()"
   ]
  },
  {
   "cell_type": "code",
   "execution_count": 14,
   "metadata": {},
   "outputs": [
    {
     "data": {
      "text/plain": [
       "array([ 7.07168935, 25.41929737, 18.8205551 , 20.98730361, 17.75442298,\n",
       "        1.68043412, 24.63934979, 20.27982868, 15.676567  , 19.11593718,\n",
       "       21.35437859, 15.65706979, 17.60982374, 18.96426782, 40.63618   ,\n",
       "       21.06552584, 20.6831598 , 23.3540473 , 17.72842949, 27.59353439,\n",
       "       20.33473   , 20.16103222, 28.98406932, 31.89329327, 29.42085079,\n",
       "       11.6650001 , 17.98997522, 27.89991246, 21.88992017, 30.28976594,\n",
       "       15.22483867, 21.86867286, 20.6660513 , 22.35459881, 12.8421853 ,\n",
       "       24.48137232, 22.32921336, 17.43015764, 21.2337052 ,  8.207245  ,\n",
       "        2.49472247, 24.56787345, 26.00156569, 17.98789946, 17.21200481,\n",
       "       -0.5692186 , 36.68908115, 22.66841865, 28.31712987, 15.23378271,\n",
       "       14.29326043, 35.65986307, 15.94449764, 17.03050563, 14.22520306,\n",
       "       18.20413548, 15.72707221, 19.0347688 , 11.83799673, 14.95624542,\n",
       "       11.73584817, 25.20700595, 20.92540816, 22.22429249, 13.54761438,\n",
       "       11.99384938, 30.58167067, 15.03969732, 23.27404379, 18.99244794,\n",
       "       24.91587217, 22.42504568, 16.07120922,  2.31304398, 32.41428927,\n",
       "       21.73466436, 24.69199842, 22.41517574, 13.41171422, 29.929242  ,\n",
       "       16.93552882, 19.74008852, 19.76288568,  7.60554317, 15.25736299,\n",
       "       26.94584903, 24.70609875,  2.97487526, 16.69179137, 16.66229505,\n",
       "       18.33144406, 17.56795087, 17.88529817, 11.74895343, 17.0980095 ,\n",
       "       24.38065264, 35.97759638, 14.9511338 , 29.11241336, 23.20944518,\n",
       "       22.31227072, 19.91848031, 22.35532504, 26.30041162, 15.17703719,\n",
       "       21.4775224 , 18.73372724, 33.80086273, 19.87963726, 13.79399753,\n",
       "       24.84598748, -3.62349031, 11.33566726, 10.99879071, 32.17998952,\n",
       "       17.53981919, 19.64913581, 21.41102988, 18.96440581, 16.39111639,\n",
       "       12.25566342, 29.42664244, 18.93447979, 20.65140246, 18.38187834,\n",
       "       17.32136313, 12.44291382])"
      ]
     },
     "execution_count": 14,
     "metadata": {},
     "output_type": "execute_result"
    }
   ],
   "source": [
    "ypred"
   ]
  },
  {
   "cell_type": "code",
   "execution_count": 16,
   "metadata": {},
   "outputs": [],
   "source": [
    "np.savetxt(\"y_pred1.csv\",(ypred))"
   ]
  },
  {
   "cell_type": "code",
   "execution_count": null,
   "metadata": {},
   "outputs": [],
   "source": []
  }
 ],
 "metadata": {
  "kernelspec": {
   "display_name": "Python 3",
   "language": "python",
   "name": "python3"
  },
  "language_info": {
   "codemirror_mode": {
    "name": "ipython",
    "version": 3
   },
   "file_extension": ".py",
   "mimetype": "text/x-python",
   "name": "python",
   "nbconvert_exporter": "python",
   "pygments_lexer": "ipython3",
   "version": "3.7.3"
  }
 },
 "nbformat": 4,
 "nbformat_minor": 2
}
