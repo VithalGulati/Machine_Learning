{
 "cells": [
  {
   "cell_type": "code",
   "execution_count": 50,
   "metadata": {},
   "outputs": [],
   "source": [
    "import pandas as pd\n",
    "import numpy as np\n",
    "np.set_printoptions(suppress=True)"
   ]
  },
  {
   "cell_type": "code",
   "execution_count": 51,
   "metadata": {},
   "outputs": [],
   "source": [
    "data=np.loadtxt(\"train3.csv\",delimiter=\",\")"
   ]
  },
  {
   "cell_type": "code",
   "execution_count": 52,
   "metadata": {},
   "outputs": [
    {
     "data": {
      "text/plain": [
       "array([[   8.58,   38.38, 1021.03,   84.37,  482.26],\n",
       "       [  21.79,   58.2 , 1017.21,   66.74,  446.94],\n",
       "       [  16.64,   48.92, 1011.55,   78.76,  452.56],\n",
       "       ...,\n",
       "       [  29.8 ,   69.34, 1009.36,   64.74,  437.65],\n",
       "       [  16.37,   54.3 , 1017.94,   63.63,  459.97],\n",
       "       [  30.11,   62.04, 1010.69,   47.96,  444.42]])"
      ]
     },
     "execution_count": 52,
     "metadata": {},
     "output_type": "execute_result"
    }
   ],
   "source": [
    "data"
   ]
  },
  {
   "cell_type": "code",
   "execution_count": 53,
   "metadata": {},
   "outputs": [
    {
     "data": {
      "text/plain": [
       "7176"
      ]
     },
     "execution_count": 53,
     "metadata": {},
     "output_type": "execute_result"
    }
   ],
   "source": [
    "len(data)"
   ]
  },
  {
   "cell_type": "code",
   "execution_count": 54,
   "metadata": {},
   "outputs": [
    {
     "data": {
      "text/plain": [
       "(7176, 5)"
      ]
     },
     "execution_count": 54,
     "metadata": {},
     "output_type": "execute_result"
    }
   ],
   "source": [
    "data.shape"
   ]
  },
  {
   "cell_type": "code",
   "execution_count": 55,
   "metadata": {},
   "outputs": [],
   "source": [
    "def stepgradient(learning_rate,m):\n",
    "    m_slope=np.zeros(5)\n",
    "    n=len(data)\n",
    "    data2=data[:,0:4]\n",
    "    data3=np.zeros([7176,5])\n",
    "    data3[:,4]=1\n",
    "    data3[:,0:4]=data3[:,0:4]+data2\n",
    "    for i in range(n):\n",
    "        \n",
    "        x=data3[i]\n",
    "        y=data[i,4]\n",
    "        for j in range(5):\n",
    "            x2=x[j]\n",
    "            m_slope[j]+=(-2/n)*(y-(m*x).sum())*x2\n",
    "    new_m=m-learning_rate*m_slope\n",
    "    return new_m"
   ]
  },
  {
   "cell_type": "code",
   "execution_count": 56,
   "metadata": {},
   "outputs": [],
   "source": [
    "def gd(learning_rate,num_iterations):\n",
    "    m=np.zeros(5)\n",
    "    for i in range(num_iterations):\n",
    "        m=stepgradient(learning_rate,m)\n",
    "    return m"
   ]
  },
  {
   "cell_type": "code",
   "execution_count": 57,
   "metadata": {},
   "outputs": [],
   "source": [
    "\n",
    "learning_rate=0.01\n",
    "num_iterations=50\n",
    "m2=gd(learning_rate,num_iterations)"
   ]
  },
  {
   "cell_type": "code",
   "execution_count": 58,
   "metadata": {},
   "outputs": [
    {
     "data": {
      "text/plain": [
       "array([-5.51420012e+213, -1.52595036e+214, -2.84953049e+215,\n",
       "       -2.06116860e+214, -2.81213923e+212])"
      ]
     },
     "execution_count": 58,
     "metadata": {},
     "output_type": "execute_result"
    }
   ],
   "source": [
    "m2"
   ]
  },
  {
   "cell_type": "code",
   "execution_count": 59,
   "metadata": {},
   "outputs": [],
   "source": [
    "data5=np.loadtxt(\"test3.csv\",delimiter=\",\")"
   ]
  },
  {
   "cell_type": "code",
   "execution_count": 60,
   "metadata": {},
   "outputs": [],
   "source": [
    "n=len(data5)"
   ]
  },
  {
   "cell_type": "code",
   "execution_count": 61,
   "metadata": {},
   "outputs": [
    {
     "data": {
      "text/plain": [
       "(2392, 4)"
      ]
     },
     "execution_count": 61,
     "metadata": {},
     "output_type": "execute_result"
    }
   ],
   "source": [
    "data5.shape"
   ]
  },
  {
   "cell_type": "code",
   "execution_count": 62,
   "metadata": {},
   "outputs": [],
   "source": [
    "data2=data5[:,0:4]\n",
    "data3=np.zeros([2392,5])\n",
    "data3[:,4]=1\n",
    "data3[:,0:4]=data3[:,0:4]+data2"
   ]
  },
  {
   "cell_type": "code",
   "execution_count": 63,
   "metadata": {},
   "outputs": [],
   "source": [
    "ypred=np.zeros(n)\n",
    "for i in range(n):\n",
    "    ypred[i]=(data3[i]*m2).sum()"
   ]
  },
  {
   "cell_type": "code",
   "execution_count": 64,
   "metadata": {},
   "outputs": [
    {
     "data": {
      "text/plain": [
       "array([-2.92543453e+218, -2.90897068e+218, -2.89481074e+218, ...,\n",
       "       -2.90582609e+218, -2.91060060e+218, -2.93148950e+218])"
      ]
     },
     "execution_count": 64,
     "metadata": {},
     "output_type": "execute_result"
    }
   ],
   "source": [
    "ypred"
   ]
  },
  {
   "cell_type": "code",
   "execution_count": 66,
   "metadata": {},
   "outputs": [],
   "source": [
    "np.savetxt(\"y_pred3.csv\",(ypred),fmt = '%1.2f')"
   ]
  },
  {
   "cell_type": "code",
   "execution_count": null,
   "metadata": {},
   "outputs": [],
   "source": []
  }
 ],
 "metadata": {
  "kernelspec": {
   "display_name": "Python 3",
   "language": "python",
   "name": "python3"
  },
  "language_info": {
   "codemirror_mode": {
    "name": "ipython",
    "version": 3
   },
   "file_extension": ".py",
   "mimetype": "text/x-python",
   "name": "python",
   "nbconvert_exporter": "python",
   "pygments_lexer": "ipython3",
   "version": "3.7.3"
  }
 },
 "nbformat": 4,
 "nbformat_minor": 2
}
