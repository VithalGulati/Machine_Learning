{
 "cells": [
  {
   "cell_type": "code",
   "execution_count": 1,
   "id": "a92e1350",
   "metadata": {},
   "outputs": [],
   "source": [
    "import cv2"
   ]
  },
  {
   "cell_type": "code",
   "execution_count": null,
   "id": "16362aee",
   "metadata": {},
   "outputs": [],
   "source": [
    "import numpy as np\n",
    "import cv2\n",
    "\n",
    "cap = cv2.VideoCapture(0)\n",
    "\n",
    "while(True):\n",
    "    # Capture frame-by-frame\n",
    "    ret, frame = cap.read()\n",
    "\n",
    "    # Our operations on the frame come here\n",
    "    gray = cv2.cvtColor(frame, cv2.COLOR_BGR2GRAY)\n",
    "\n",
    "    # Display the resulting frame\n",
    "    cv2.imshow('frame',gray)\n",
    "    if cv2.waitKey(1) & 0xFF == ord('q'):\n",
    "        break\n",
    "\n",
    "# When everything done, release the capture\n",
    "cap.release()\n",
    "cv2.destroyAllWindows()"
   ]
  },
  {
   "cell_type": "code",
   "execution_count": null,
   "id": "b26c0066",
   "metadata": {},
   "outputs": [],
   "source": [
    "import cv2\n",
    "import numpy as np\n",
    "\n",
    "img = cv2.imread('Photograph.jpg',0)\n",
    "ret,thresh = cv2.threshold(img,127,255,0)\n",
    "contours,hierarchy = cv2.findContours(thresh, 1, 2)\n",
    "\n",
    "cnt = contours[0]\n",
    "M = cv2.moments(cnt)\n",
    "print(M) "
   ]
  },
  {
   "cell_type": "code",
   "execution_count": null,
   "id": "5fb8f736",
   "metadata": {},
   "outputs": [],
   "source": [
    "area = cv2.contourArea(cnt)"
   ]
  },
  {
   "cell_type": "code",
   "execution_count": null,
   "id": "43fc2cd6",
   "metadata": {},
   "outputs": [],
   "source": [
    "area"
   ]
  },
  {
   "cell_type": "code",
   "execution_count": null,
   "id": "047944fb",
   "metadata": {},
   "outputs": [],
   "source": [
    "contours"
   ]
  },
  {
   "cell_type": "code",
   "execution_count": null,
   "id": "492f30b3",
   "metadata": {},
   "outputs": [],
   "source": [
    " contours, hierarchy = cv2.findContours(thresh, cv2.RETR_TREE, cv2.CHAIN_APPROX_SIMPLE)"
   ]
  },
  {
   "cell_type": "code",
   "execution_count": null,
   "id": "083dbf8e",
   "metadata": {},
   "outputs": [],
   "source": [
    "import imutils"
   ]
  },
  {
   "cell_type": "code",
   "execution_count": null,
   "id": "5df57286",
   "metadata": {},
   "outputs": [],
   "source": [
    "pip install imutils"
   ]
  },
  {
   "cell_type": "code",
   "execution_count": null,
   "id": "2941096f",
   "metadata": {},
   "outputs": [],
   "source": [
    "from imutils.video import VideoStream\n",
    "from imutils.video import FPS\n",
    "import argparse\n",
    "import imutils\n",
    "import time\n",
    "import cv2"
   ]
  },
  {
   "cell_type": "code",
   "execution_count": null,
   "id": "e4cd87ac",
   "metadata": {},
   "outputs": [],
   "source": [
    "cv2"
   ]
  },
  {
   "cell_type": "code",
   "execution_count": null,
   "id": "015a5097",
   "metadata": {},
   "outputs": [],
   "source": [
    "cv2.version"
   ]
  },
  {
   "cell_type": "code",
   "execution_count": null,
   "id": "b13b5500",
   "metadata": {},
   "outputs": [],
   "source": []
  },
  {
   "cell_type": "code",
   "execution_count": null,
   "id": "46212b93",
   "metadata": {},
   "outputs": [],
   "source": [
    "#!/usr/bin/env python\n",
    " \n",
    "'''\n",
    "Welcome to the Object Tracking Program!\n",
    " \n",
    "Using real-time streaming video from your built-in webcam, this program:\n",
    "  - Creates a bounding box around a moving object\n",
    "  - Calculates the coordinates of the centroid of the object\n",
    "  - Tracks the centroid of the object\n",
    "\n",
    "'''\n",
    " \n",
    "from __future__ import print_function # Python 2/3 compatibility\n",
    "import cv2 # Import the OpenCV library\n",
    "import numpy as np # Import Numpy library\n",
    " \n",
    "# Project: Object Tracking\n",
    "# Author: Addison Sears-Collins \n",
    "# Website: https://automaticaddison.com\n",
    "# Date created: 06/13/2020\n",
    "# Python version: 3.7\n",
    " \n",
    "def main():\n",
    "    \"\"\"\n",
    "    Main method of the program.\n",
    "    \"\"\"\n",
    " \n",
    "    # Create a VideoCapture object\n",
    "    cap = cv2.VideoCapture(0)\n",
    " \n",
    "    # Create the background subtractor object\n",
    "    # Use the last 700 video frames to build the background\n",
    "    back_sub = cv2.createBackgroundSubtractorMOG2(history=700, \n",
    "        varThreshold=25, detectShadows=True)\n",
    " \n",
    "    # Create kernel for morphological operation\n",
    "    # You can tweak the dimensions of the kernel\n",
    "    # e.g. instead of 20,20 you can try 30,30.\n",
    "    kernel = np.ones((20,20),np.uint8)\n",
    " \n",
    "    while(True):\n",
    " \n",
    "        # Capture frame-by-frame\n",
    "        # This method returns True/False as well\n",
    "        # as the video frame.\n",
    "        ret, frame = cap.read()\n",
    " \n",
    "        # Use every frame to calculate the foreground mask and update\n",
    "        # the background\n",
    "        fg_mask = back_sub.apply(frame)\n",
    " \n",
    "        # Close dark gaps in foreground object using closing\n",
    "        fg_mask = cv2.morphologyEx(fg_mask, cv2.MORPH_CLOSE, kernel)\n",
    " \n",
    "        # Remove salt and pepper noise with a median filter\n",
    "        fg_mask = cv2.medianBlur(fg_mask, 5) \n",
    "         \n",
    "        # Threshold the image to make it either black or white\n",
    "        _, fg_mask = cv2.threshold(fg_mask,127,255,cv2.THRESH_BINARY)\n",
    " \n",
    "        # Find the index of the largest contour and draw bounding box\n",
    "        fg_mask_bb = fg_mask\n",
    "        contours, hierarchy = cv2.findContours(fg_mask_bb,cv2.RETR_TREE,cv2.CHAIN_APPROX_SIMPLE)[-2:]\n",
    "        areas = [cv2.contourArea(c) for c in contours]\n",
    " \n",
    "        # If there are no countours\n",
    "        if len(areas) < 1:\n",
    " \n",
    "            # Display the resulting frame\n",
    "            cv2.imshow('frame',frame)\n",
    " \n",
    "            # If \"q\" is pressed on the keyboard, \n",
    "            # exit this loop\n",
    "            if cv2.waitKey(1) & 0xFF == ord('q'):\n",
    "                break\n",
    " \n",
    "            # Go to the top of the while loop\n",
    "            continue\n",
    " \n",
    "        else:\n",
    "            # Find the largest moving object in the image\n",
    "            max_index = np.argmax(areas)\n",
    " \n",
    "        # Draw the bounding box\n",
    "        cnt = contours[max_index]\n",
    "        x,y,w,h = cv2.boundingRect(cnt)\n",
    "        cv2.rectangle(frame,(x,y),(x+w,y+h),(0,255,0),3)\n",
    " \n",
    "        # Draw circle in the center of the bounding box\n",
    "        x2 = x + int(w/2)\n",
    "        y2 = y + int(h/2)\n",
    "        cv2.circle(frame,(x2,y2),4,(0,255,0),-1)\n",
    " \n",
    "        # Print the centroid coordinates (we'll use the center of the\n",
    "        # bounding box) on the image\n",
    "        text = \"x: \" + str(x2) + \", y: \" + str(y2)\n",
    "        cv2.putText(frame, text, (x2 - 10, y2 - 10),\n",
    "            cv2.FONT_HERSHEY_SIMPLEX, 0.5, (0, 255, 0), 2)\n",
    "         \n",
    "        # Display the resulting frame\n",
    "        cv2.imshow('frame',frame)\n",
    " \n",
    "        # If \"q\" is pressed on the keyboard, \n",
    "        # exit this loop\n",
    "        if cv2.waitKey(1) & 0xFF == ord('q'):\n",
    "            break\n",
    " \n",
    "    # Close down the video stream\n",
    "    cap.release()\n",
    "    cv2.destroyAllWindows()\n",
    " \n",
    "if __name__ == '__main__':\n",
    "    print(__doc__)\n",
    "    main()"
   ]
  },
  {
   "cell_type": "code",
   "execution_count": null,
   "id": "606fdd99",
   "metadata": {},
   "outputs": [],
   "source": [
    "import cv2"
   ]
  },
  {
   "cell_type": "code",
   "execution_count": null,
   "id": "9b7fe3e5",
   "metadata": {},
   "outputs": [],
   "source": [
    "img = cv2.imread('Photograph.jpg')\n",
    "cv2.imshow('image',img)\n",
    "cv2.waitKey(0)\n",
    "cv2.destroyAllWindows()\n",
    "imgray = cv2.cvtColor(img, cv2.COLOR_BGR2GRAY)\n",
    "cv2.imshow('image',imgray)\n",
    "cv2.waitKey(0)\n",
    "cv2.destroyAllWindows()\n",
    "ret, thresh = cv2.threshold(imgray, 127, 255, 0)\n",
    "cv2.imshow('image',thresh)\n",
    "cv2.waitKey(0)\n",
    "cv2.destroyAllWindows()\n",
    "cv2.imshow('image',ret)\n",
    "cv2.waitKey(0)\n",
    "cv2.destroyAllWindows()\n",
    "contours, hierarchy = cv2.findContours(thresh, cv2.RETR_TREE, cv2.CHAIN_APPROX_SIMPLE)"
   ]
  },
  {
   "cell_type": "code",
   "execution_count": null,
   "id": "50e6cc37",
   "metadata": {},
   "outputs": [],
   "source": [
    "cv2.drawContours(img, contours, -1, (0,255,0), 3)\n",
    "cv2.imshow('image',img)\n",
    "cv2.waitKey(0)\n",
    "cv2.destroyAllWindows()"
   ]
  },
  {
   "cell_type": "code",
   "execution_count": null,
   "id": "58c9853a",
   "metadata": {},
   "outputs": [],
   "source": [
    "cv2.imshow('image',thresh)\n",
    "cv2.waitKey(0)\n",
    "cv2.destroyAllWindows()"
   ]
  },
  {
   "cell_type": "code",
   "execution_count": null,
   "id": "5ce6b5ec",
   "metadata": {},
   "outputs": [],
   "source": [
    "import numpy as np\n",
    "import matplotlib.pyplot as plt\n",
    "kernel = np.ones((15,15),np.uint8)\n",
    "dilated = cv2.dilate(thresh,kernel,iterations = 1)\n",
    "\n",
    "# plot dilated image\n",
    "plt.imshow(dilated, cmap = 'gray')\n",
    "plt.show()\n",
    "\n",
    "x = [0, 400]\n",
    "y = [300, 300]\n",
    "plt.plot(x, y, color=\"black\", linewidth=3)\n",
    "plt.imshow(dilated)\n",
    "plt.show()"
   ]
  },
  {
   "cell_type": "code",
   "execution_count": null,
   "id": "1d35b82e",
   "metadata": {},
   "outputs": [],
   "source": [
    "contours, hierarchy = cv2.findContours(thresh, cv2.RETR_TREE, cv2.CHAIN_APPROX_SIMPLE)\n",
    "cv2.drawContours(img, contours, -1, (0,255,0), 1)\n",
    "cv2.imshow('image',img)\n",
    "cv2.waitKey(0)\n",
    "cv2.destroyAllWindows()"
   ]
  },
  {
   "cell_type": "markdown",
   "id": "22d3757a",
   "metadata": {},
   "source": [
    "countour detection in only certain area\n"
   ]
  },
  {
   "cell_type": "code",
   "execution_count": null,
   "id": "2467bf8f",
   "metadata": {},
   "outputs": [],
   "source": [
    "valid_cntrs = []\n",
    "\n",
    "for i,cntr in enumerate(contours):\n",
    "    x,y,w,h = cv2.boundingRect(cntr)\n",
    "    if (x <= 300) & (y >= 200) & (cv2.contourArea(cntr) >= 0):\n",
    "        valid_cntrs.append(cntr)\n",
    "\n",
    "# count of discovered contours        \n",
    "len(valid_cntrs)"
   ]
  },
  {
   "cell_type": "code",
   "execution_count": null,
   "id": "44137a97",
   "metadata": {},
   "outputs": [],
   "source": [
    "img = cv2.imread('Photograph.jpg')\n",
    "dmy =img.copy()\n",
    "\n",
    "cv2.drawContours(dmy, valid_cntrs, -1, (127,200,0), 2)\n",
    "cv2.line(dmy, (0, 220),(256,80),(100, 255, 255))\n",
    "plt.imshow(dmy)\n",
    "plt.show()"
   ]
  },
  {
   "cell_type": "code",
   "execution_count": 5,
   "id": "6e8c013f",
   "metadata": {},
   "outputs": [
    {
     "name": "stdout",
     "output_type": "stream",
     "text": [
      "3.7.3\n"
     ]
    }
   ],
   "source": [
    "from platform import python_version\n",
    "print(python_version())"
   ]
  },
  {
   "cell_type": "code",
   "execution_count": null,
   "id": "a0e8cd51",
   "metadata": {},
   "outputs": [],
   "source": []
  }
 ],
 "metadata": {
  "kernelspec": {
   "display_name": "Python 3",
   "language": "python",
   "name": "python3"
  },
  "language_info": {
   "codemirror_mode": {
    "name": "ipython",
    "version": 3
   },
   "file_extension": ".py",
   "mimetype": "text/x-python",
   "name": "python",
   "nbconvert_exporter": "python",
   "pygments_lexer": "ipython3",
   "version": "3.7.3"
  }
 },
 "nbformat": 4,
 "nbformat_minor": 5
}
