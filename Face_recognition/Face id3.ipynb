{
 "cells": [
  {
   "cell_type": "code",
   "execution_count": 1,
   "id": "d4b3c45a",
   "metadata": {},
   "outputs": [
    {
     "name": "stdout",
     "output_type": "stream",
     "text": [
      "(335, 66, 227, 313)\n"
     ]
    },
    {
     "data": {
      "text/plain": [
       "-1"
      ]
     },
     "execution_count": 1,
     "metadata": {},
     "output_type": "execute_result"
    }
   ],
   "source": [
    "import cv2\n",
    "import numpy as np\n",
    "\n",
    " #image_path\n",
    "img_path=\"NewPicture2.jpg\"\n",
    "\n",
    "#read image\n",
    "img_raw = cv2.imread(img_path)\n",
    "\n",
    "#select ROI function\n",
    "roi = cv2.selectROI(img_raw)\n",
    "\n",
    "#print rectangle points of selected roi\n",
    "print(roi)\n",
    "\n",
    "#Crop selected roi from raw image\n",
    "roi_cropped = img_raw[int(roi[1]):int(roi[1]+roi[3]), int(roi[0]):int(roi[0]+roi[2])]\n",
    "\n",
    "#show cropped image\n",
    "cv2.imshow(\"ROI\", roi_cropped)\n",
    "\n",
    "#hold window\n",
    "cv2.waitKey(0)\n"
   ]
  },
  {
   "cell_type": "code",
   "execution_count": null,
   "id": "73c7ac64",
   "metadata": {},
   "outputs": [],
   "source": []
  }
 ],
 "metadata": {
  "kernelspec": {
   "display_name": "Python 3",
   "language": "python",
   "name": "python3"
  },
  "language_info": {
   "codemirror_mode": {
    "name": "ipython",
    "version": 3
   },
   "file_extension": ".py",
   "mimetype": "text/x-python",
   "name": "python",
   "nbconvert_exporter": "python",
   "pygments_lexer": "ipython3",
   "version": "3.7.3"
  }
 },
 "nbformat": 4,
 "nbformat_minor": 5
}
