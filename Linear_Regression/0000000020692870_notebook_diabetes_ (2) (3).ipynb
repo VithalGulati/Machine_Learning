{
 "cells": [
  {
   "cell_type": "code",
   "execution_count": 1,
   "metadata": {},
   "outputs": [],
   "source": [
    "import numpy as np\n",
    "import matplotlib.pyplot as plt\n",
    "from sklearn.linear_model import LinearRegression\n"
   ]
  },
  {
   "cell_type": "code",
   "execution_count": 2,
   "metadata": {},
   "outputs": [],
   "source": [
    "x=np.loadtxt(\"train.csv\",delimiter=\",\")"
   ]
  },
  {
   "cell_type": "code",
   "execution_count": 3,
   "metadata": {},
   "outputs": [
    {
     "data": {
      "text/plain": [
       "((331, 11),\n",
       " array([[-4.91050164e-02, -4.46416365e-02,  1.60854917e-01, ...,\n",
       "          2.80165065e-02,  1.13486232e-02,  3.46000000e+02],\n",
       "        [-7.09002471e-02,  5.06801187e-02, -8.91974838e-02, ...,\n",
       "         -1.29079423e-02, -5.49250874e-02,  1.04000000e+02],\n",
       "        [ 1.75052192e-03, -4.46416365e-02, -7.08746786e-02, ...,\n",
       "         -2.25121719e-02,  7.20651633e-03,  4.90000000e+01],\n",
       "        ...,\n",
       "        [ 2.35457526e-02, -4.46416365e-02,  7.03187031e-02, ...,\n",
       "         -1.91970476e-02, -9.36191133e-03,  2.88000000e+02],\n",
       "        [ 1.62806757e-02,  5.06801187e-02,  7.24743273e-02, ...,\n",
       "         -2.36445576e-02,  6.10539062e-02,  1.31000000e+02],\n",
       "        [-9.14709343e-03,  5.06801187e-02, -3.09956318e-02, ...,\n",
       "          6.20931562e-03,  2.79170509e-02,  4.20000000e+01]]))"
      ]
     },
     "execution_count": 3,
     "metadata": {},
     "output_type": "execute_result"
    }
   ],
   "source": [
    "x.shape , x"
   ]
  },
  {
   "cell_type": "code",
   "execution_count": 4,
   "metadata": {},
   "outputs": [
    {
     "data": {
      "text/plain": [
       "((331, 10), (331, 1))"
      ]
     },
     "execution_count": 4,
     "metadata": {},
     "output_type": "execute_result"
    }
   ],
   "source": [
    "x_train=x[:,:-1]\n",
    "y_train=x[:,-1:]\n",
    "x_train.shape, y_train.shape"
   ]
  },
  {
   "cell_type": "code",
   "execution_count": 5,
   "metadata": {},
   "outputs": [],
   "source": [
    "x_test=np.loadtxt(\"test.csv\", delimiter=\",\")"
   ]
  },
  {
   "cell_type": "code",
   "execution_count": 6,
   "metadata": {},
   "outputs": [
    {
     "data": {
      "text/plain": [
       "(111, 10)"
      ]
     },
     "execution_count": 6,
     "metadata": {},
     "output_type": "execute_result"
    }
   ],
   "source": [
    "x_test.shape"
   ]
  },
  {
   "cell_type": "code",
   "execution_count": 7,
   "metadata": {},
   "outputs": [],
   "source": [
    "alg=LinearRegression()"
   ]
  },
  {
   "cell_type": "code",
   "execution_count": 8,
   "metadata": {},
   "outputs": [
    {
     "data": {
      "text/plain": [
       "LinearRegression()"
      ]
     },
     "execution_count": 8,
     "metadata": {},
     "output_type": "execute_result"
    }
   ],
   "source": [
    "alg.fit(x_train,y_train)"
   ]
  },
  {
   "cell_type": "code",
   "execution_count": 9,
   "metadata": {},
   "outputs": [],
   "source": [
    "y_pred=alg.predict(x_test)\n"
   ]
  },
  {
   "cell_type": "code",
   "execution_count": 10,
   "metadata": {},
   "outputs": [
    {
     "data": {
      "text/plain": [
       "array([[105.52974799],\n",
       "       [105.8039198 ],\n",
       "       [178.60857225],\n",
       "       [ 79.3828781 ],\n",
       "       [ 52.95868706],\n",
       "       [ 98.87263854],\n",
       "       [150.71755448],\n",
       "       [ 34.86515216],\n",
       "       [113.13535727],\n",
       "       [161.50184038],\n",
       "       [135.8615611 ],\n",
       "       [ 94.71592222],\n",
       "       [138.48094422],\n",
       "       [141.37441723],\n",
       "       [158.76862662],\n",
       "       [171.65288616],\n",
       "       [106.44835654],\n",
       "       [103.92659639],\n",
       "       [ 95.38693889],\n",
       "       [167.40118092],\n",
       "       [166.53426278],\n",
       "       [101.53464712],\n",
       "       [252.45035972],\n",
       "       [147.02258547],\n",
       "       [214.78906632],\n",
       "       [161.27557106],\n",
       "       [210.61315228],\n",
       "       [ 71.78091585],\n",
       "       [189.65032431],\n",
       "       [206.6134259 ],\n",
       "       [219.98643455],\n",
       "       [168.80192534],\n",
       "       [116.84846127],\n",
       "       [178.74399639],\n",
       "       [ 77.03247418],\n",
       "       [ 59.54633214],\n",
       "       [111.5673781 ],\n",
       "       [156.95186739],\n",
       "       [154.59591259],\n",
       "       [198.94457493],\n",
       "       [115.53884017],\n",
       "       [153.46699024],\n",
       "       [ 84.96179518],\n",
       "       [113.70337192],\n",
       "       [142.14155617],\n",
       "       [147.31040378],\n",
       "       [ 82.78072358],\n",
       "       [ 77.89237327],\n",
       "       [128.99006192],\n",
       "       [261.58712282],\n",
       "       [213.31187775],\n",
       "       [243.98791257],\n",
       "       [167.68132094],\n",
       "       [183.69712124],\n",
       "       [166.85926884],\n",
       "       [202.11440188],\n",
       "       [220.39235543],\n",
       "       [172.40288024],\n",
       "       [176.60897931],\n",
       "       [109.04656567],\n",
       "       [276.37789836],\n",
       "       [ 90.99941821],\n",
       "       [289.37221147],\n",
       "       [119.56253351],\n",
       "       [ 75.45687948],\n",
       "       [180.78598759],\n",
       "       [146.62093081],\n",
       "       [156.42382465],\n",
       "       [ 41.079036  ],\n",
       "       [247.90645166],\n",
       "       [207.99121432],\n",
       "       [ 90.09641075],\n",
       "       [222.24169638],\n",
       "       [189.86378006],\n",
       "       [182.2695376 ],\n",
       "       [164.39881376],\n",
       "       [190.27066587],\n",
       "       [105.4486795 ],\n",
       "       [199.86136394],\n",
       "       [245.796388  ],\n",
       "       [123.20281334],\n",
       "       [119.41031908],\n",
       "       [145.86620411],\n",
       "       [206.19247291],\n",
       "       [150.86282453],\n",
       "       [142.23221646],\n",
       "       [154.56874616],\n",
       "       [115.29233396],\n",
       "       [134.07810123],\n",
       "       [118.42225404],\n",
       "       [203.5767555 ],\n",
       "       [170.66483797],\n",
       "       [127.409797  ],\n",
       "       [ 57.13507634],\n",
       "       [231.92226503],\n",
       "       [185.20713654],\n",
       "       [187.37494558],\n",
       "       [ 83.55920849],\n",
       "       [185.42585685],\n",
       "       [217.34035639],\n",
       "       [108.86715354],\n",
       "       [ 80.98714568],\n",
       "       [127.05524123],\n",
       "       [242.00738792],\n",
       "       [155.9723414 ],\n",
       "       [125.67575276],\n",
       "       [246.41235643],\n",
       "       [234.963933  ],\n",
       "       [191.51298252],\n",
       "       [168.33254477],\n",
       "       [163.02965178]])"
      ]
     },
     "execution_count": 10,
     "metadata": {},
     "output_type": "execute_result"
    }
   ],
   "source": [
    "y_pred"
   ]
  },
  {
   "cell_type": "code",
   "execution_count": 11,
   "metadata": {},
   "outputs": [
    {
     "data": {
      "text/plain": [
       "(111, 1)"
      ]
     },
     "execution_count": 11,
     "metadata": {},
     "output_type": "execute_result"
    }
   ],
   "source": [
    "y_pred.shape"
   ]
  },
  {
   "cell_type": "code",
   "execution_count": 12,
   "metadata": {},
   "outputs": [],
   "source": [
    "np.savetxt(\"y_pred.csv\",(y_pred))"
   ]
  },
  {
   "cell_type": "code",
   "execution_count": 13,
   "metadata": {},
   "outputs": [],
   "source": [
    "y_pred1=alg.predict(x_train)\n"
   ]
  },
  {
   "cell_type": "code",
   "execution_count": 14,
   "metadata": {},
   "outputs": [
    {
     "data": {
      "text/plain": [
       "(111, 1)"
      ]
     },
     "execution_count": 14,
     "metadata": {},
     "output_type": "execute_result"
    }
   ],
   "source": [
    "y_pred.shape"
   ]
  },
  {
   "cell_type": "code",
   "execution_count": null,
   "metadata": {},
   "outputs": [],
   "source": []
  }
 ],
 "metadata": {
  "kernelspec": {
   "display_name": "Python 3",
   "language": "python",
   "name": "python3"
  },
  "language_info": {
   "codemirror_mode": {
    "name": "ipython",
    "version": 3
   },
   "file_extension": ".py",
   "mimetype": "text/x-python",
   "name": "python",
   "nbconvert_exporter": "python",
   "pygments_lexer": "ipython3",
   "version": "3.7.3"
  }
 },
 "nbformat": 4,
 "nbformat_minor": 4
}
