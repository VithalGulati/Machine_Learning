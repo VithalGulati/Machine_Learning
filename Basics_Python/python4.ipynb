{
 "cells": [
  {
   "cell_type": "code",
   "execution_count": null,
   "metadata": {},
   "outputs": [
    {
     "name": "stdout",
     "output_type": "stream",
     "text": [
      "Welcome to tic-tac-toe game\n",
      "\n",
      "player 1 choose your character x or o\n",
      "\n",
      "x\n",
      "player 1 your character is\n",
      "x\n",
      "player 2 your character is \n",
      "o\n",
      "Have a look at the board\n",
      "\t\t\t|\t|\t\t\t\n",
      "\t\t-------------------------\n",
      "\t\t\t|\t|\t\t\t\n",
      "\t\t-------------------------\n",
      "\t\t\t|\t|\t\t\t\n",
      "The sequence of the board is as follows-\n",
      "\t\t   1\t     2\t     3\n",
      "\t\t   4\t     5\t     6\n",
      "\t\t   7\t     8\t     9\n",
      "Start a new game yes or no ?yes\n",
      "enter your number & hit enter\tPlayer 15\n",
      "\n",
      "Have a look at the board\n",
      "\n",
      " \t|  |\t \n",
      " \t| x |\t \n",
      " \t|  |\t \n",
      "enter your number & hit enter\tPlayer 21\n",
      "\n",
      "Have a look at the board\n",
      "\n",
      "o \t|  |\t \n",
      " \t| x |\t \n",
      " \t|  |\t \n",
      "enter your number & hit enter\tPlayer 13\n",
      "\n",
      "Have a look at the board\n",
      "\n",
      "o \t|  |\t x\n",
      " \t| x |\t \n",
      " \t|  |\t \n",
      "enter your number & hit enter\tPlayer 27\n",
      "\n",
      "Have a look at the board\n",
      "\n",
      "o \t|  |\t x\n",
      " \t| x |\t \n",
      "o \t|  |\t \n",
      "enter your number & hit enter\tPlayer 14\n",
      "\n",
      "Have a look at the board\n",
      "\n",
      "o \t|  |\t x\n",
      "x \t| x |\t \n",
      "o \t|  |\t \n",
      "enter your number & hit enter\tPlayer 26\n",
      "\n",
      "Have a look at the board\n",
      "\n",
      "o \t|  |\t x\n",
      "x \t| x |\t o\n",
      "o \t|  |\t \n"
     ]
    }
   ],
   "source": [
    "\n",
    "\n",
    "\n",
    "\n",
    "print(\"Welcome to tic-tac-toe game\")\n",
    "p=input(\"\\nplayer 1 choose your character x or o\\n\\n\")\n",
    "if p==\"x\":\n",
    "    q=\"o\"\n",
    "else:\n",
    "    q=\"x\"\n",
    "print(\"player 1 your character is\")\n",
    "print(p)\n",
    "print(\"player 2 your character is \")\n",
    "print(q)\n",
    "print(\"Have a look at the board\")\n",
    "print(\"\\t\\t\\t|\\t|\\t\\t\\t\")\n",
    "print(\"\\t\\t-------------------------\")\n",
    "print(\"\\t\\t\\t|\\t|\\t\\t\\t\")\n",
    "print(\"\\t\\t-------------------------\")\n",
    "print(\"\\t\\t\\t|\\t|\\t\\t\\t\")\n",
    "print(\"The sequence of the board is as follows-\")\n",
    "print(\"\\t\\t   1\\t     2\\t     3\")\n",
    "print(\"\\t\\t   4\\t     5\\t     6\")\n",
    "print(\"\\t\\t   7\\t     8\\t     9\")\n",
    "    \n",
    "\n",
    "choice=input(\"Start a new game yes or no ?\")\n",
    "a=\"\"\n",
    "b=\"\"\n",
    "c=\"\"\n",
    "d=\"\"\n",
    "e=\"\"\n",
    "f=\"\"\n",
    "g=\"\"\n",
    "h=\"\"\n",
    "i=\"\"\n",
    "    \n",
    "\n",
    "\n",
    "\n",
    "\n",
    "\n",
    "while choice==\"yes\":\n",
    "    \n",
    "    num1=int(input(\"enter your number & hit enter\\tPlayer 1\"))  \n",
    "    if num1==1:\n",
    "        a=a+p\n",
    "    elif num1==2:\n",
    "         b=b+p\n",
    "    elif num1==3:\n",
    "         c=c+p\n",
    "    elif num1==4:\n",
    "         d=d+p    \n",
    "    elif num1==5:\n",
    "         e=e+p    \n",
    "    elif num1==6:\n",
    "         f=f+p    \n",
    "    elif num1==7:\n",
    "         g=g+p    \n",
    "    elif num1==8:\n",
    "         h=h+p    \n",
    "    elif num1==9:\n",
    "         i=i+p\n",
    "    print(\"\\nHave a look at the board\\n\")\n",
    "    print(a,\"\\t|\",b,\"|\\t\",c)\n",
    "    print(d,\"\\t|\",e,\"|\\t\",f)\n",
    "    print(g,\"\\t|\",h,\"|\\t\",i)\n",
    "    if a==b==c==p or d==e==f==p or g==h==i==p or a==d==g==p or b==e==h==p or c==f==i==p or a==e==i==p or c==e==g==p:\n",
    "        print(\"Congratulations player 1 !!! YOU WIN \")\n",
    "        break \n",
    "    if a!=\"\" and b!=\"\" and c!=\"\" and d!=\"\" and e!=\"\" and f!=\"\" and g!=\"\" and h!=\"\" and i!=\"\":\n",
    "        print(\"Nobody wins\")\n",
    "        break       \n",
    "        \n",
    "            \n",
    "    num2=int(input(\"enter your number & hit enter\\tPlayer 2\"))\n",
    "    if num2==1:\n",
    "        a=a+q\n",
    "    elif num2==2:\n",
    "         b=b+q\n",
    "    elif num2==3:\n",
    "         c=c+q\n",
    "    elif num2==4:\n",
    "         d=d+q    \n",
    "    elif num2==5:\n",
    "         e=e+q    \n",
    "    elif num2==6:\n",
    "         f=f+q    \n",
    "    elif num2==7:\n",
    "         g=g+q    \n",
    "    elif num2==8:\n",
    "         h=h+q    \n",
    "    elif num2==9:\n",
    "         i=i+q\n",
    "    \n",
    "    print(\"\\nHave a look at the board\\n\")\n",
    "    print(a,\"\\t|\",b,\"|\\t\",c)\n",
    "    print(d,\"\\t|\",e,\"|\\t\",f)\n",
    "    print(g,\"\\t|\",h,\"|\\t\",i)\n",
    "    if a==b==c==q or d==e==f==q or g==h==i==q or a==d==g==q or b==e==h==q or c==f==i==q or a==e==i==q or c==e==g==q:\n",
    "        print(\"Congratulations player 2 !!! YOU WIN\")\n",
    "        break\n",
    "    if a!=\"\" and b!=\"\" and c!=\"\" and d!=\"\" and e!=\"\" and f!=\"\" and g!=\"\" and h!=\"\" and i!=\"\":\n",
    "        print(\"Nobody wins\")\n",
    "        break\n",
    "    \n",
    "    \n",
    "    continue\n",
    "    \n",
    "    \n",
    "    \n",
    "    \n",
    "    \n",
    "    \n",
    "\n"
   ]
  },
  {
   "cell_type": "code",
   "execution_count": 1,
   "metadata": {},
   "outputs": [
    {
     "name": "stdout",
     "output_type": "stream",
     "text": [
      "this is hello\n"
     ]
    }
   ],
   "source": [
    "a=\"hello\"\n",
    "print(\"this is\",a)"
   ]
  },
  {
   "cell_type": "code",
   "execution_count": 2,
   "metadata": {},
   "outputs": [],
   "source": [
    "a=\"\"\n",
    "a=a+\"hello\""
   ]
  },
  {
   "cell_type": "code",
   "execution_count": 3,
   "metadata": {},
   "outputs": [
    {
     "data": {
      "text/plain": [
       "'hello'"
      ]
     },
     "execution_count": 3,
     "metadata": {},
     "output_type": "execute_result"
    }
   ],
   "source": [
    "a"
   ]
  },
  {
   "cell_type": "code",
   "execution_count": 4,
   "metadata": {},
   "outputs": [
    {
     "name": "stdout",
     "output_type": "stream",
     "text": [
      "a\t|b|\tc\n"
     ]
    }
   ],
   "source": [
    "print(\"a\\t|b|\\tc\")"
   ]
  },
  {
   "cell_type": "code",
   "execution_count": 5,
   "metadata": {},
   "outputs": [],
   "source": [
    "a=\" \""
   ]
  },
  {
   "cell_type": "code",
   "execution_count": 6,
   "metadata": {},
   "outputs": [],
   "source": [
    "a=a+\"hello\""
   ]
  },
  {
   "cell_type": "code",
   "execution_count": 7,
   "metadata": {},
   "outputs": [
    {
     "data": {
      "text/plain": [
       "' hello'"
      ]
     },
     "execution_count": 7,
     "metadata": {},
     "output_type": "execute_result"
    }
   ],
   "source": [
    "a"
   ]
  },
  {
   "cell_type": "code",
   "execution_count": 8,
   "metadata": {},
   "outputs": [],
   "source": [
    "a=5"
   ]
  },
  {
   "cell_type": "code",
   "execution_count": 9,
   "metadata": {},
   "outputs": [
    {
     "name": "stdout",
     "output_type": "stream",
     "text": [
      "8\n"
     ]
    }
   ],
   "source": [
    "a=3\n",
    "def f1():\n",
    "    k=a\n",
    "    k=k+5\n",
    "    print(k)\n",
    "f1()    "
   ]
  },
  {
   "cell_type": "code",
   "execution_count": null,
   "metadata": {},
   "outputs": [],
   "source": []
  },
  {
   "cell_type": "code",
   "execution_count": null,
   "metadata": {},
   "outputs": [],
   "source": []
  },
  {
   "cell_type": "code",
   "execution_count": null,
   "metadata": {},
   "outputs": [],
   "source": []
  }
 ],
 "metadata": {
  "kernelspec": {
   "display_name": "Python 3",
   "language": "python",
   "name": "python3"
  },
  "language_info": {
   "codemirror_mode": {
    "name": "ipython",
    "version": 3
   },
   "file_extension": ".py",
   "mimetype": "text/x-python",
   "name": "python",
   "nbconvert_exporter": "python",
   "pygments_lexer": "ipython3",
   "version": "3.7.3"
  }
 },
 "nbformat": 4,
 "nbformat_minor": 2
}
