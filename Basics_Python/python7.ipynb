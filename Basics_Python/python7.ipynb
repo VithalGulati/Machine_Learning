{
 "cells": [
  {
   "cell_type": "code",
   "execution_count": 2,
   "metadata": {},
   "outputs": [],
   "source": [
    "def happynumbers(num):\n",
    "    t=num\n",
    "    c=0\n",
    "    def count(t):\n",
    "        a=1\n",
    "        sum=0\n",
    "        while int(t/a!=0):\n",
    "            t=int(t/a)\n",
    "            a=a*10\n",
    "            sum=sum+(t%a)**2\n",
    "        return sum\n",
    "    while count(t)!=1:\n",
    "        t=count(t)\n",
    "        if count(t)==1:\n",
    "            c=c+1\n",
    "            break\n",
    "        else:\n",
    "            continue\n",
    "    if c==1:\n",
    "        print(\"Number entered is a happy number\")\n",
    "    else:\n",
    "        print(\"Number entered is not a happy number\")\n",
    "    \n",
    "    "
   ]
  },
  {
   "cell_type": "code",
   "execution_count": null,
   "metadata": {},
   "outputs": [],
   "source": [
    "happynumbers(45)"
   ]
  },
  {
   "cell_type": "code",
   "execution_count": 1,
   "metadata": {},
   "outputs": [],
   "source": [
    "import numpy as np"
   ]
  },
  {
   "cell_type": "code",
   "execution_count": 2,
   "metadata": {},
   "outputs": [],
   "source": [
    "a = np.array([0, 1, 2, 3])\n",
    "b = np.array([2, 3, 4, 5])"
   ]
  },
  {
   "cell_type": "code",
   "execution_count": 3,
   "metadata": {},
   "outputs": [
    {
     "data": {
      "text/plain": [
       "26"
      ]
     },
     "execution_count": 3,
     "metadata": {},
     "output_type": "execute_result"
    }
   ],
   "source": [
    "a.dot(b)"
   ]
  },
  {
   "cell_type": "code",
   "execution_count": null,
   "metadata": {},
   "outputs": [],
   "source": []
  }
 ],
 "metadata": {
  "kernelspec": {
   "display_name": "Python 3",
   "language": "python",
   "name": "python3"
  },
  "language_info": {
   "codemirror_mode": {
    "name": "ipython",
    "version": 3
   },
   "file_extension": ".py",
   "mimetype": "text/x-python",
   "name": "python",
   "nbconvert_exporter": "python",
   "pygments_lexer": "ipython3",
   "version": "3.7.3"
  }
 },
 "nbformat": 4,
 "nbformat_minor": 2
}
