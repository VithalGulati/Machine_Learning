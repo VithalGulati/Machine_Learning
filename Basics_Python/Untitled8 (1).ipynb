{
 "cells": [
  {
   "cell_type": "code",
   "execution_count": 7,
   "metadata": {},
   "outputs": [],
   "source": [
    "def merge_sort(a):\n",
    "    b=[]\n",
    "    l=(len(a)/2)\n",
    "    n=0\n",
    "    m=2\n",
    "    for i in range(0,len(a),2):\n",
    "        if a[i]<=a[i+1]:\n",
    "            b.append(a[i])\n",
    "            b.append(a[i+1])\n",
    "        elif a[i]>a[i+1]:\n",
    "            b.append(a[i+1])\n",
    "            b.append(a[i])\n",
    "        else:\n",
    "            pass\n",
    "        n=n+1\n",
    "    # below is func to compare n groups of size m one by one\n",
    "    for m in range(2,((i/2)+i%2):\n",
    "        \n",
    "        for j in range(o,n,m):\n",
    "            u=0\n",
    "            v=0\n",
    "            while u<m and v<m:\n",
    "                if b[(j*m)+u]>=b[((j+1)*m)+v] and u<m and v<m:\n",
    "                    c.append(b[(j*m)+u])\n",
    "                    u=u+1\n",
    "                elif b[(j*m)+u]<b[((j+1)*m)+v] and u<m and v<m:\n",
    "                    c.append(b[((j+1)*m)+v])\n",
    "                    v=v+1\n",
    "                elif u==m and v<m:\n",
    "                    c.append(b[((j+1)*m)+v])\n",
    "                    v=v+1\n",
    "                elif v==m and u<m:\n",
    "                    c.append(b[(j*m)+u])\n",
    "                    u=u+1\n",
    "                elif v==m and u==m:\n",
    "                    break\n",
    "                continue    \n",
    "        n=n/2+n%2        \n",
    "                \n",
    "            \n",
    "        \n",
    "    "
   ]
  },
  {
   "cell_type": "code",
   "execution_count": 8,
   "metadata": {},
   "outputs": [
    {
     "name": "stdout",
     "output_type": "stream",
     "text": [
      "[2, 5, 1, 7, 3, 4]\n"
     ]
    }
   ],
   "source": [
    "a=[5,2,7,1,4,3]\n",
    "merge_sort(a)"
   ]
  },
  {
   "cell_type": "code",
   "execution_count": null,
   "metadata": {},
   "outputs": [],
   "source": []
  },
  {
   "cell_type": "code",
   "execution_count": null,
   "metadata": {},
   "outputs": [],
   "source": []
  },
  {
   "cell_type": "code",
   "execution_count": null,
   "metadata": {},
   "outputs": [],
   "source": []
  },
  {
   "cell_type": "code",
   "execution_count": null,
   "metadata": {},
   "outputs": [],
   "source": []
  },
  {
   "cell_type": "code",
   "execution_count": null,
   "metadata": {},
   "outputs": [],
   "source": []
  },
  {
   "cell_type": "code",
   "execution_count": null,
   "metadata": {},
   "outputs": [],
   "source": []
  },
  {
   "cell_type": "code",
   "execution_count": null,
   "metadata": {},
   "outputs": [],
   "source": []
  },
  {
   "cell_type": "code",
   "execution_count": 2,
   "metadata": {},
   "outputs": [
    {
     "ename": "IndentationError",
     "evalue": "unexpected indent (<ipython-input-2-b9e388680f8d>, line 8)",
     "output_type": "error",
     "traceback": [
      "\u001b[1;36m  File \u001b[1;32m\"<ipython-input-2-b9e388680f8d>\"\u001b[1;36m, line \u001b[1;32m8\u001b[0m\n\u001b[1;33m    while d!=1:\u001b[0m\n\u001b[1;37m    ^\u001b[0m\n\u001b[1;31mIndentationError\u001b[0m\u001b[1;31m:\u001b[0m unexpected indent\n"
     ]
    }
   ],
   "source": [
    "def convert():\n",
    "    a=input(\"convert to binary or decimal?\")\n",
    "    b=int(input(\"enter number\"))\n",
    "    if a=='binary':\n",
    "        d=b\n",
    "        a=1\n",
    "        e=0\n",
    "         while d!=1:\n",
    "                c=d%2\n",
    "                d=d/2\n",
    "                e=e+c*a\n",
    "                a=a*10\n",
    "                continue\n",
    "        print(e+b%2)       \n",
    "    else :\n",
    "        pass"
   ]
  },
  {
   "cell_type": "code",
   "execution_count": null,
   "metadata": {},
   "outputs": [],
   "source": []
  }
 ],
 "metadata": {
  "kernelspec": {
   "display_name": "Python 3",
   "language": "python",
   "name": "python3"
  },
  "language_info": {
   "codemirror_mode": {
    "name": "ipython",
    "version": 3
   },
   "file_extension": ".py",
   "mimetype": "text/x-python",
   "name": "python",
   "nbconvert_exporter": "python",
   "pygments_lexer": "ipython3",
   "version": "3.7.3"
  }
 },
 "nbformat": 4,
 "nbformat_minor": 2
}
